{
 "cells": [
  {
   "cell_type": "code",
   "execution_count": 13,
   "id": "63004daf-b9c6-4fbf-af80-20c933c177db",
   "metadata": {},
   "outputs": [],
   "source": [
    "import pandas as pd\n",
    "import matplotlib.pyplot as plt\n",
    "import seaborn as sns\n",
    "import numpy as np\n",
    "import scipy.stats as st"
   ]
  },
  {
   "cell_type": "code",
   "execution_count": 2,
   "id": "8ab72017-ac64-45a8-b215-b66cab3673ec",
   "metadata": {},
   "outputs": [
    {
     "data": {
      "text/html": [
       "<div>\n",
       "<style scoped>\n",
       "    .dataframe tbody tr th:only-of-type {\n",
       "        vertical-align: middle;\n",
       "    }\n",
       "\n",
       "    .dataframe tbody tr th {\n",
       "        vertical-align: top;\n",
       "    }\n",
       "\n",
       "    .dataframe thead th {\n",
       "        text-align: right;\n",
       "    }\n",
       "</style>\n",
       "<table border=\"1\" class=\"dataframe\">\n",
       "  <thead>\n",
       "    <tr style=\"text-align: right;\">\n",
       "      <th></th>\n",
       "      <th>client_id</th>\n",
       "      <th>Variation</th>\n",
       "    </tr>\n",
       "  </thead>\n",
       "  <tbody>\n",
       "    <tr>\n",
       "      <th>0</th>\n",
       "      <td>9988021</td>\n",
       "      <td>Test</td>\n",
       "    </tr>\n",
       "    <tr>\n",
       "      <th>1</th>\n",
       "      <td>8320017</td>\n",
       "      <td>Test</td>\n",
       "    </tr>\n",
       "    <tr>\n",
       "      <th>2</th>\n",
       "      <td>4033851</td>\n",
       "      <td>Control</td>\n",
       "    </tr>\n",
       "    <tr>\n",
       "      <th>3</th>\n",
       "      <td>1982004</td>\n",
       "      <td>Test</td>\n",
       "    </tr>\n",
       "    <tr>\n",
       "      <th>4</th>\n",
       "      <td>9294070</td>\n",
       "      <td>Control</td>\n",
       "    </tr>\n",
       "    <tr>\n",
       "      <th>...</th>\n",
       "      <td>...</td>\n",
       "      <td>...</td>\n",
       "    </tr>\n",
       "    <tr>\n",
       "      <th>50495</th>\n",
       "      <td>393005</td>\n",
       "      <td>Control</td>\n",
       "    </tr>\n",
       "    <tr>\n",
       "      <th>50496</th>\n",
       "      <td>2908510</td>\n",
       "      <td>Control</td>\n",
       "    </tr>\n",
       "    <tr>\n",
       "      <th>50497</th>\n",
       "      <td>7230446</td>\n",
       "      <td>Test</td>\n",
       "    </tr>\n",
       "    <tr>\n",
       "      <th>50498</th>\n",
       "      <td>5230357</td>\n",
       "      <td>Test</td>\n",
       "    </tr>\n",
       "    <tr>\n",
       "      <th>50499</th>\n",
       "      <td>6334360</td>\n",
       "      <td>Test</td>\n",
       "    </tr>\n",
       "  </tbody>\n",
       "</table>\n",
       "<p>50500 rows × 2 columns</p>\n",
       "</div>"
      ],
      "text/plain": [
       "       client_id Variation\n",
       "0        9988021      Test\n",
       "1        8320017      Test\n",
       "2        4033851   Control\n",
       "3        1982004      Test\n",
       "4        9294070   Control\n",
       "...          ...       ...\n",
       "50495     393005   Control\n",
       "50496    2908510   Control\n",
       "50497    7230446      Test\n",
       "50498    5230357      Test\n",
       "50499    6334360      Test\n",
       "\n",
       "[50500 rows x 2 columns]"
      ]
     },
     "execution_count": 2,
     "metadata": {},
     "output_type": "execute_result"
    }
   ],
   "source": [
    "file_path = \"C:/Users/thege/OneDrive/Escritorio/IH/Week 5,6P/data/clean/002_ExpClients.csv\"\n",
    "df = pd.read_csv(file_path)\n",
    "df"
   ]
  },
  {
   "cell_type": "code",
   "execution_count": 3,
   "id": "0d63c60c-2890-499e-87f9-5692bac9a737",
   "metadata": {},
   "outputs": [
    {
     "data": {
      "image/png": "[encoded data removed]",
      "text/plain": [
       "<Figure size 500x500 with 1 Axes>"
      ]
     },
     "metadata": {},
     "output_type": "display_data"
    }
   ],
   "source": [
    "gender_counts = df['Variation'].value_counts()\n",
    "# Create a pie chart\n",
    "plt.figure(figsize=(5, 5))\n",
    "plt.pie(gender_counts, labels=gender_counts.index, autopct='%1.1f%%', startangle=90)\n",
    "plt.title('Variation Distribution')\n",
    "plt.show()"
   ]
  },
  {
   "cell_type": "code",
   "execution_count": 51,
   "id": "150f09ff-666d-4782-a984-2cb272708ff1",
   "metadata": {},
   "outputs": [
    {
     "data": {
      "text/plain": [
       "(21.62332440712671, 5.4191119513108185e-104)"
      ]
     },
     "execution_count": 51,
     "metadata": {},
     "output_type": "execute_result"
    }
   ],
   "source": [
    "#Null Hypothesis ( 𝐻 0): There is no difference in the completion rates between the Test and Control groups.\n",
    "#Alternative Hypothesis ( 𝐻 1): The completion rate for the Test group is higher than the completion rate for the Control group\n",
    "\n",
    "from statsmodels.stats.proportion import proportions_ztest\n",
    "completion_counts = df['Variation'].value_counts()\n",
    "successes = [completion_counts['Test'], completion_counts['Control']]\n",
    "successes\n",
    "nobs = [completion_counts['Test'] + completion_counts['Control'], \n",
    "        completion_counts['Test'] + completion_counts['Control']]\n",
    "stat, p_value = proportions_ztest(successes, nobs, alternative='larger')\n",
    "stat, p_value"
   ]
  },
  {
   "cell_type": "code",
   "execution_count": 53,
   "id": "b93d262c-67c8-47aa-9bc8-efc276f4ba2c",
   "metadata": {},
   "outputs": [
    {
     "data": {
      "text/plain": [
       "(5.733075825056005, 4.931275766727138e-09)"
      ]
     },
     "execution_count": 53,
     "metadata": {},
     "output_type": "execute_result"
    }
   ],
   "source": [
    "#Null Hypothesis ( 𝐻 0): The increase in completion rate is less than 5%. \n",
    "#Alternative Hypothesis ( 𝐻 1): The increase in completion rate is at least 5%.\n",
    "successes = [test_count, control_count]\n",
    "nobs = [len(df), len(df)]\n",
    "min_increase = 0.05\n",
    "stat, p_value = proportions_ztest(successes, nobs, value=min_increase, alternative='larger')\n",
    "stat, p_value"
   ]
  },
  {
   "cell_type": "code",
   "execution_count": 56,
   "id": "e13729cf-5265-449f-8ff3-396e32e2fd83",
   "metadata": {},
   "outputs": [
    {
     "data": {
      "text/html": [
       "<div>\n",
       "<style scoped>\n",
       "    .dataframe tbody tr th:only-of-type {\n",
       "        vertical-align: middle;\n",
       "    }\n",
       "\n",
       "    .dataframe tbody tr th {\n",
       "        vertical-align: top;\n",
       "    }\n",
       "\n",
       "    .dataframe thead th {\n",
       "        text-align: right;\n",
       "    }\n",
       "</style>\n",
       "<table border=\"1\" class=\"dataframe\">\n",
       "  <thead>\n",
       "    <tr style=\"text-align: right;\">\n",
       "      <th></th>\n",
       "      <th>client_id</th>\n",
       "      <th>clnt_tenure_yr</th>\n",
       "      <th>clnt_age</th>\n",
       "      <th>gendr</th>\n",
       "      <th>Variation</th>\n",
       "    </tr>\n",
       "  </thead>\n",
       "  <tbody>\n",
       "    <tr>\n",
       "      <th>0</th>\n",
       "      <td>555</td>\n",
       "      <td>3</td>\n",
       "      <td>30</td>\n",
       "      <td>U</td>\n",
       "      <td>Test</td>\n",
       "    </tr>\n",
       "    <tr>\n",
       "      <th>1</th>\n",
       "      <td>647</td>\n",
       "      <td>12</td>\n",
       "      <td>58</td>\n",
       "      <td>M</td>\n",
       "      <td>Test</td>\n",
       "    </tr>\n",
       "    <tr>\n",
       "      <th>2</th>\n",
       "      <td>934</td>\n",
       "      <td>9</td>\n",
       "      <td>51</td>\n",
       "      <td>F</td>\n",
       "      <td>Test</td>\n",
       "    </tr>\n",
       "    <tr>\n",
       "      <th>3</th>\n",
       "      <td>1028</td>\n",
       "      <td>12</td>\n",
       "      <td>36</td>\n",
       "      <td>M</td>\n",
       "      <td>Control</td>\n",
       "    </tr>\n",
       "    <tr>\n",
       "      <th>4</th>\n",
       "      <td>1104</td>\n",
       "      <td>5</td>\n",
       "      <td>48</td>\n",
       "      <td>U</td>\n",
       "      <td>Control</td>\n",
       "    </tr>\n",
       "    <tr>\n",
       "      <th>...</th>\n",
       "      <td>...</td>\n",
       "      <td>...</td>\n",
       "      <td>...</td>\n",
       "      <td>...</td>\n",
       "      <td>...</td>\n",
       "    </tr>\n",
       "    <tr>\n",
       "      <th>50480</th>\n",
       "      <td>9999150</td>\n",
       "      <td>5</td>\n",
       "      <td>30</td>\n",
       "      <td>U</td>\n",
       "      <td>Test</td>\n",
       "    </tr>\n",
       "    <tr>\n",
       "      <th>50481</th>\n",
       "      <td>9999400</td>\n",
       "      <td>7</td>\n",
       "      <td>29</td>\n",
       "      <td>U</td>\n",
       "      <td>Test</td>\n",
       "    </tr>\n",
       "    <tr>\n",
       "      <th>50482</th>\n",
       "      <td>9999626</td>\n",
       "      <td>9</td>\n",
       "      <td>35</td>\n",
       "      <td>M</td>\n",
       "      <td>Test</td>\n",
       "    </tr>\n",
       "    <tr>\n",
       "      <th>50483</th>\n",
       "      <td>9999729</td>\n",
       "      <td>10</td>\n",
       "      <td>31</td>\n",
       "      <td>F</td>\n",
       "      <td>Test</td>\n",
       "    </tr>\n",
       "    <tr>\n",
       "      <th>50484</th>\n",
       "      <td>9999832</td>\n",
       "      <td>23</td>\n",
       "      <td>49</td>\n",
       "      <td>F</td>\n",
       "      <td>Test</td>\n",
       "    </tr>\n",
       "  </tbody>\n",
       "</table>\n",
       "<p>50485 rows × 5 columns</p>\n",
       "</div>"
      ],
      "text/plain": [
       "       client_id  clnt_tenure_yr  clnt_age gendr Variation\n",
       "0            555               3        30     U      Test\n",
       "1            647              12        58     M      Test\n",
       "2            934               9        51     F      Test\n",
       "3           1028              12        36     M   Control\n",
       "4           1104               5        48     U   Control\n",
       "...          ...             ...       ...   ...       ...\n",
       "50480    9999150               5        30     U      Test\n",
       "50481    9999400               7        29     U      Test\n",
       "50482    9999626               9        35     M      Test\n",
       "50483    9999729              10        31     F      Test\n",
       "50484    9999832              23        49     F      Test\n",
       "\n",
       "[50485 rows x 5 columns]"
      ]
     },
     "execution_count": 56,
     "metadata": {},
     "output_type": "execute_result"
    }
   ],
   "source": [
    "file_path2 = \"C:/Users/thege/OneDrive/Escritorio/IH/Week 5,6P/data/clean/1+2 DAY 56.csv\"\n",
    "dc = pd.read_csv(file_path2)\n",
    "dc"
   ]
  },
  {
   "cell_type": "code",
   "execution_count": 78,
   "id": "6bf5cbd9-6c9c-427d-94bb-9024d450c520",
   "metadata": {},
   "outputs": [
    {
     "data": {
      "text/plain": [
       "(-2.1403823247165477, 0.032328658834428904)"
      ]
     },
     "execution_count": 78,
     "metadata": {},
     "output_type": "execute_result"
    }
   ],
   "source": [
    "#H0: Age for Test = Age for Control\n",
    "\n",
    "from scipy.stats import ttest_ind\n",
    "\n",
    "test_group = dc[dc['Variation'] == 'Test']\n",
    "control_group = dc[dc['Variation'] == 'Control']\n",
    "\n",
    "average_age_test = test_group['clnt_age'].mean()\n",
    "average_age_control = control_group['clnt_age'].mean()\n",
    "t_stat, p_value = ttest_ind(test_group['clnt_age'], control_group['clnt_age'])\n",
    "t_stat, p_value"
   ]
  },
  {
   "cell_type": "code",
   "execution_count": 79,
   "id": "a8c71638-ac46-4a58-8f0b-4c9e3d291b0b",
   "metadata": {},
   "outputs": [
    {
     "data": {
      "text/plain": [
       "(-1.7124238164000867, 0.08682473416066212)"
      ]
     },
     "execution_count": 79,
     "metadata": {},
     "output_type": "execute_result"
    }
   ],
   "source": [
    "#H0: Tnure_yr for Test = Tenure_yr for Control\n",
    "\n",
    "from scipy.stats import ttest_ind\n",
    "\n",
    "test_group = dc[dc['Variation'] == 'Test']\n",
    "control_group = dc[dc['Variation'] == 'Control']\n",
    "\n",
    "average_age_test = test_group['clnt_tenure_yr'].mean()\n",
    "average_age_control = control_group['clnt_tenure_yr'].mean()\n",
    "t_stat, p_value = ttest_ind(test_group['clnt_tenure_yr'], control_group['clnt_tenure_yr'])\n",
    "t_stat, p_value\n",
    "\n",
    "#H0 is valid becasue p_value is bigger than 0.05"
   ]
  },
  {
   "cell_type": "code",
   "execution_count": 81,
   "id": "472d67b5-1e4f-433b-bf45-46d30efa9fb0",
   "metadata": {},
   "outputs": [
    {
     "name": "stdout",
     "output_type": "stream",
     "text": [
      "Variation  Control  Test\n",
      "gendr                   \n",
      "F             7542  8716\n",
      "M             7970  8977\n",
      "U             8014  9266\n"
     ]
    }
   ],
   "source": [
    "#There is no association between gender and the type of process (new or old). In other words, the engagement with the new or old process is independent of gender.\n",
    "contingency_table = pd.crosstab(dc['gendr'], dc['Variation'])\n",
    "\n",
    "print(contingency_table)\n"
   ]
  },
  {
   "cell_type": "code",
   "execution_count": 87,
   "id": "dd4ed467-b6d9-44aa-8636-e4604d946f56",
   "metadata": {},
   "outputs": [
    {
     "data": {
      "text/plain": [
       "(1.887142620657543, 0.3892352702565598)"
      ]
     },
     "execution_count": 87,
     "metadata": {},
     "output_type": "execute_result"
    }
   ],
   "source": [
    "from scipy.stats import chi2_contingency\n",
    "\n",
    "chi2_stat, p_value, dof, expected = chi2_contingency(contingency_table)\n",
    "chi2_stat, p_value\n",
    "\n",
    "#H0 is valid becasue p_value is bigger than 0.05"
   ]
  },
  {
   "cell_type": "code",
   "execution_count": null,
   "id": "5844acc5-bb75-429d-b120-5148f9cc023a",
   "metadata": {},
   "outputs": [],
   "source": []
  }
 ],
 "metadata": {
  "kernelspec": {
   "display_name": "56",
   "language": "python",
   "name": "56"
  },
  "language_info": {
   "codemirror_mode": {
    "name": "ipython",
    "version": 3
   },
   "file_extension": ".py",
   "mimetype": "text/x-python",
   "name": "python",
   "nbconvert_exporter": "python",
   "pygments_lexer": "ipython3",
   "version": "3.11.7"
  }
 },
 "nbformat": 4,
 "nbformat_minor": 5
}
